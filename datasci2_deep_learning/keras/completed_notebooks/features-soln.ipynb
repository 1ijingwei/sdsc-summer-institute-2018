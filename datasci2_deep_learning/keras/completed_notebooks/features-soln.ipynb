{
 "cells": [
  {
   "cell_type": "markdown",
   "metadata": {},
   "source": [
    "# CNN Transfer Learning on Cats-Dogs Classification\n",
    "\n",
    "### VGG16 trained on ImageNet data is used as pre-trained model from which to extract features.  Features are then saved, and passed through neural network with ReLu hidden layer to classify cats vs. dogs.\n",
    "\n",
    "#### Adapted from fchollet/classifier_from_little_data_script_2.py (https://gist.github.com/fchollet/f35fbc80e066a49d65f1688a7e99f069) and blog https://blog.keras.io/building-powerful-image-classification-models-using-very-little-data.html"
   ]
  },
  {
   "cell_type": "code",
   "execution_count": 1,
   "metadata": {},
   "outputs": [
    {
     "name": "stderr",
     "output_type": "stream",
     "text": [
      "Using TensorFlow backend.\n"
     ]
    }
   ],
   "source": [
    "import keras"
   ]
  },
  {
   "cell_type": "code",
   "execution_count": 2,
   "metadata": {},
   "outputs": [],
   "source": [
    "from keras.models import Sequential\n",
    "from keras.preprocessing.image import ImageDataGenerator\n",
    "from keras.layers import Dropout, Flatten, Dense\n",
    "from keras import backend as K\n",
    "from keras import applications\n",
    "import numpy as np"
   ]
  },
  {
   "cell_type": "code",
   "execution_count": 3,
   "metadata": {},
   "outputs": [
    {
     "name": "stdout",
     "output_type": "stream",
     "text": [
      "1.7.0\n",
      "2.2.2\n"
     ]
    }
   ],
   "source": [
    "import tensorflow as tf\n",
    "print (tf.__version__)\n",
    "print (keras.__version__)"
   ]
  },
  {
   "cell_type": "code",
   "execution_count": 4,
   "metadata": {},
   "outputs": [],
   "source": [
    "# import os\n",
    "# os.environ[\"CUDA_VISIBLE_DEVICES\"]=\"0\" "
   ]
  },
  {
   "cell_type": "markdown",
   "metadata": {},
   "source": [
    "### Set dimensions, number, and location of images"
   ]
  },
  {
   "cell_type": "code",
   "execution_count": 5,
   "metadata": {},
   "outputs": [
    {
     "name": "stdout",
     "output_type": "stream",
     "text": [
      "(150, 150, 3)\n"
     ]
    }
   ],
   "source": [
    "# Image dimensions\n",
    "img_width, img_height = 150, 150\n",
    "\n",
    "# Location of images\n",
    "train_data_dir = 'data/train'\n",
    "validation_data_dir = 'data/validation'\n",
    "\n",
    "if K.image_data_format() == 'channels_first':\n",
    "    input_shape = (3, img_width, img_height)\n",
    "else:\n",
    "    input_shape = (img_width, img_height, 3)\n",
    "    \n",
    "print (input_shape)\n",
    "\n",
    "# Number of images\n",
    "nb_train_samples = 2000\n",
    "nb_validation_samples = 800\n",
    "\n",
    "# Batch size\n",
    "batch_size = 16"
   ]
  },
  {
   "cell_type": "markdown",
   "metadata": {},
   "source": [
    "### Method to extract features from pre-trained network and save features"
   ]
  },
  {
   "cell_type": "code",
   "execution_count": 6,
   "metadata": {},
   "outputs": [],
   "source": [
    "def save_features():\n",
    "    \n",
    "    # Scale pixel values in image\n",
    "    datagen = ImageDataGenerator(rescale=1. / 255)\n",
    "\n",
    "    # Load the VGG16 network's imagenet weights, not including the last fully connected layers.\n",
    "    model = applications.VGG16(include_top=False, weights='imagenet')\n",
    "\n",
    "    # Generator that will read pictures found in subfolders of training data directory,\n",
    "    # and indefinitely generate batches of image data (scaled)\n",
    "    generator = datagen.flow_from_directory(\n",
    "        train_data_dir,\n",
    "        target_size=(img_width, img_height),\n",
    "        batch_size=batch_size,\n",
    "        class_mode=None,        # Generator will only yield batches of data, no labels\n",
    "        shuffle=False)          # Data will be presented in order, i.e., 1000 cat images, then 1000 dog images\n",
    "    \n",
    "    # The predict_generator method returns the output of the model, given input provided by a generator\n",
    "    # that yields batches of numpy data\n",
    "    features_train = model.predict_generator(\n",
    "        generator, nb_train_samples // batch_size)\n",
    "    \n",
    "    # Save model outputs (i.e., features) from model as numpy array\n",
    "    np.save('features_train.npy', features_train) \n",
    "\n",
    "    # Generator to generator validation input for model\n",
    "    generator = datagen.flow_from_directory(\n",
    "        validation_data_dir,\n",
    "        target_size=(img_width, img_height),\n",
    "        batch_size=batch_size,\n",
    "        class_mode=None,\n",
    "        shuffle=False)\n",
    "    \n",
    "    # Get model output for validation data\n",
    "    features_validation = model.predict_generator(\n",
    "        generator, nb_validation_samples // batch_size)\n",
    "    \n",
    "    # Save model outputs (i.e., features) for validation data\n",
    "    np.save('features_validation.npy', features_validation) \n",
    "    \n",
    "    # Print out model architecture\n",
    "    model.summary()"
   ]
  },
  {
   "cell_type": "markdown",
   "metadata": {},
   "source": [
    "### Call method to extract and save features from pre-trained network"
   ]
  },
  {
   "cell_type": "code",
   "execution_count": 7,
   "metadata": {
    "scrolled": true
   },
   "outputs": [
    {
     "name": "stdout",
     "output_type": "stream",
     "text": [
      "Found 2000 images belonging to 2 classes.\n",
      "Found 800 images belonging to 2 classes.\n",
      "_________________________________________________________________\n",
      "Layer (type)                 Output Shape              Param #   \n",
      "=================================================================\n",
      "input_1 (InputLayer)         (None, None, None, 3)     0         \n",
      "_________________________________________________________________\n",
      "block1_conv1 (Conv2D)        (None, None, None, 64)    1792      \n",
      "_________________________________________________________________\n",
      "block1_conv2 (Conv2D)        (None, None, None, 64)    36928     \n",
      "_________________________________________________________________\n",
      "block1_pool (MaxPooling2D)   (None, None, None, 64)    0         \n",
      "_________________________________________________________________\n",
      "block2_conv1 (Conv2D)        (None, None, None, 128)   73856     \n",
      "_________________________________________________________________\n",
      "block2_conv2 (Conv2D)        (None, None, None, 128)   147584    \n",
      "_________________________________________________________________\n",
      "block2_pool (MaxPooling2D)   (None, None, None, 128)   0         \n",
      "_________________________________________________________________\n",
      "block3_conv1 (Conv2D)        (None, None, None, 256)   295168    \n",
      "_________________________________________________________________\n",
      "block3_conv2 (Conv2D)        (None, None, None, 256)   590080    \n",
      "_________________________________________________________________\n",
      "block3_conv3 (Conv2D)        (None, None, None, 256)   590080    \n",
      "_________________________________________________________________\n",
      "block3_pool (MaxPooling2D)   (None, None, None, 256)   0         \n",
      "_________________________________________________________________\n",
      "block4_conv1 (Conv2D)        (None, None, None, 512)   1180160   \n",
      "_________________________________________________________________\n",
      "block4_conv2 (Conv2D)        (None, None, None, 512)   2359808   \n",
      "_________________________________________________________________\n",
      "block4_conv3 (Conv2D)        (None, None, None, 512)   2359808   \n",
      "_________________________________________________________________\n",
      "block4_pool (MaxPooling2D)   (None, None, None, 512)   0         \n",
      "_________________________________________________________________\n",
      "block5_conv1 (Conv2D)        (None, None, None, 512)   2359808   \n",
      "_________________________________________________________________\n",
      "block5_conv2 (Conv2D)        (None, None, None, 512)   2359808   \n",
      "_________________________________________________________________\n",
      "block5_conv3 (Conv2D)        (None, None, None, 512)   2359808   \n",
      "_________________________________________________________________\n",
      "block5_pool (MaxPooling2D)   (None, None, None, 512)   0         \n",
      "=================================================================\n",
      "Total params: 14,714,688\n",
      "Trainable params: 14,714,688\n",
      "Non-trainable params: 0\n",
      "_________________________________________________________________\n"
     ]
    }
   ],
   "source": [
    "save_features()"
   ]
  },
  {
   "cell_type": "markdown",
   "metadata": {},
   "source": [
    "### Load saved features"
   ]
  },
  {
   "cell_type": "code",
   "execution_count": 8,
   "metadata": {},
   "outputs": [
    {
     "name": "stdout",
     "output_type": "stream",
     "text": [
      "(2000,) (800,)\n"
     ]
    }
   ],
   "source": [
    "# Load saved features for train data\n",
    "train_data = np.load('features_train.npy')\n",
    "    \n",
    "# Create labels for train data.  Images were generated in order, so creating labels is easy.\n",
    "train_labels = np.array([0] * (nb_train_samples // 2) + [1] * (nb_train_samples // 2)) \n",
    "\n",
    "# Load saved features for validation data\n",
    "validation_data = np.load('features_validation.npy') \n",
    "    \n",
    "# Create labels for validation data\n",
    "validation_labels = np.array([0] * (nb_validation_samples // 2) + [1] * (nb_validation_samples // 2)) \n",
    "    \n",
    "print (train_labels.shape, validation_labels.shape)"
   ]
  },
  {
   "cell_type": "markdown",
   "metadata": {},
   "source": [
    "### Create top model"
   ]
  },
  {
   "cell_type": "code",
   "execution_count": 9,
   "metadata": {
    "scrolled": true
   },
   "outputs": [
    {
     "name": "stdout",
     "output_type": "stream",
     "text": [
      "<keras.engine.sequential.Sequential object at 0x2ac9e801da90>\n",
      "_________________________________________________________________\n",
      "Layer (type)                 Output Shape              Param #   \n",
      "=================================================================\n",
      "flatten_1 (Flatten)          (None, 8192)              0         \n",
      "_________________________________________________________________\n",
      "dense_1 (Dense)              (None, 256)               2097408   \n",
      "_________________________________________________________________\n",
      "dropout_1 (Dropout)          (None, 256)               0         \n",
      "_________________________________________________________________\n",
      "dense_2 (Dense)              (None, 1)                 257       \n",
      "=================================================================\n",
      "Total params: 2,097,665\n",
      "Trainable params: 2,097,665\n",
      "Non-trainable params: 0\n",
      "_________________________________________________________________\n"
     ]
    }
   ],
   "source": [
    "# Create fully connected layer on top of model\n",
    "top_model = Sequential()\n",
    "top_model.add(Flatten(input_shape=train_data.shape[1:]))  # Convert 3D feature maps to 1D feature vectors\n",
    "top_model.add(Dense(256, activation='relu'))\n",
    "top_model.add(Dropout(0.5))\n",
    "top_model.add(Dense(1, activation='sigmoid'))\n",
    "\n",
    "# Create model\n",
    "top_model.compile(optimizer='rmsprop',\n",
    "              loss='binary_crossentropy', \n",
    "              metrics=['accuracy'])\n",
    "print(top_model)\n",
    "top_model.summary()\n"
   ]
  },
  {
   "cell_type": "markdown",
   "metadata": {},
   "source": [
    "### Train top model"
   ]
  },
  {
   "cell_type": "code",
   "execution_count": 10,
   "metadata": {},
   "outputs": [
    {
     "name": "stdout",
     "output_type": "stream",
     "text": [
      "Train on 2000 samples, validate on 800 samples\n",
      "Epoch 1/50\n",
      "2000/2000 [==============================] - 1s 494us/step - loss: 0.7990 - acc: 0.7510 - val_loss: 0.2857 - val_acc: 0.8825\n",
      "Epoch 2/50\n",
      "2000/2000 [==============================] - 0s 220us/step - loss: 0.3473 - acc: 0.8540 - val_loss: 0.4275 - val_acc: 0.8287\n",
      "Epoch 3/50\n",
      "2000/2000 [==============================] - 0s 222us/step - loss: 0.2847 - acc: 0.8845 - val_loss: 0.2623 - val_acc: 0.9075\n",
      "Epoch 4/50\n",
      "2000/2000 [==============================] - 0s 222us/step - loss: 0.2660 - acc: 0.8960 - val_loss: 0.2492 - val_acc: 0.9000\n",
      "Epoch 5/50\n",
      "2000/2000 [==============================] - 0s 219us/step - loss: 0.2419 - acc: 0.9135 - val_loss: 0.2675 - val_acc: 0.9075\n",
      "Epoch 6/50\n",
      "2000/2000 [==============================] - 0s 219us/step - loss: 0.2047 - acc: 0.9265 - val_loss: 0.2668 - val_acc: 0.9100\n",
      "Epoch 7/50\n",
      "2000/2000 [==============================] - 0s 220us/step - loss: 0.1908 - acc: 0.9335 - val_loss: 0.3093 - val_acc: 0.9000\n",
      "Epoch 8/50\n",
      "2000/2000 [==============================] - 0s 224us/step - loss: 0.1587 - acc: 0.9430 - val_loss: 0.3253 - val_acc: 0.9000\n",
      "Epoch 9/50\n",
      "2000/2000 [==============================] - 0s 219us/step - loss: 0.1348 - acc: 0.9505 - val_loss: 0.4449 - val_acc: 0.8862\n",
      "Epoch 10/50\n",
      "2000/2000 [==============================] - 0s 219us/step - loss: 0.1191 - acc: 0.9570 - val_loss: 0.6694 - val_acc: 0.8562\n",
      "Epoch 11/50\n",
      "2000/2000 [==============================] - 0s 222us/step - loss: 0.1138 - acc: 0.9540 - val_loss: 0.3517 - val_acc: 0.9062\n",
      "Epoch 12/50\n",
      "2000/2000 [==============================] - 0s 222us/step - loss: 0.0891 - acc: 0.9665 - val_loss: 0.3887 - val_acc: 0.9087\n",
      "Epoch 13/50\n",
      "2000/2000 [==============================] - 0s 221us/step - loss: 0.1030 - acc: 0.9680 - val_loss: 0.4924 - val_acc: 0.8788\n",
      "Epoch 14/50\n",
      "2000/2000 [==============================] - 0s 221us/step - loss: 0.0808 - acc: 0.9675 - val_loss: 0.4314 - val_acc: 0.8875\n",
      "Epoch 15/50\n",
      "2000/2000 [==============================] - 0s 221us/step - loss: 0.0837 - acc: 0.9735 - val_loss: 0.5559 - val_acc: 0.8812\n",
      "Epoch 16/50\n",
      "2000/2000 [==============================] - 0s 220us/step - loss: 0.0714 - acc: 0.9720 - val_loss: 0.5025 - val_acc: 0.8925\n",
      "Epoch 17/50\n",
      "2000/2000 [==============================] - 0s 218us/step - loss: 0.0606 - acc: 0.9765 - val_loss: 0.4938 - val_acc: 0.9087\n",
      "Epoch 18/50\n",
      "2000/2000 [==============================] - 0s 222us/step - loss: 0.0565 - acc: 0.9770 - val_loss: 0.5533 - val_acc: 0.9075\n",
      "Epoch 19/50\n",
      "2000/2000 [==============================] - 0s 218us/step - loss: 0.0573 - acc: 0.9815 - val_loss: 0.5609 - val_acc: 0.9050\n",
      "Epoch 20/50\n",
      "2000/2000 [==============================] - 0s 226us/step - loss: 0.0386 - acc: 0.9840 - val_loss: 0.6093 - val_acc: 0.9050\n",
      "Epoch 21/50\n",
      "2000/2000 [==============================] - 0s 217us/step - loss: 0.0364 - acc: 0.9890 - val_loss: 0.8663 - val_acc: 0.8762\n",
      "Epoch 22/50\n",
      "2000/2000 [==============================] - 0s 223us/step - loss: 0.0476 - acc: 0.9840 - val_loss: 0.5605 - val_acc: 0.9038\n",
      "Epoch 23/50\n",
      "2000/2000 [==============================] - 0s 221us/step - loss: 0.0327 - acc: 0.9885 - val_loss: 0.8144 - val_acc: 0.8888\n",
      "Epoch 24/50\n",
      "2000/2000 [==============================] - 0s 218us/step - loss: 0.0210 - acc: 0.9905 - val_loss: 0.7598 - val_acc: 0.8975\n",
      "Epoch 25/50\n",
      "2000/2000 [==============================] - 0s 219us/step - loss: 0.0402 - acc: 0.9890 - val_loss: 0.6936 - val_acc: 0.9012\n",
      "Epoch 26/50\n",
      "2000/2000 [==============================] - 0s 221us/step - loss: 0.0490 - acc: 0.9855 - val_loss: 0.6734 - val_acc: 0.8938\n",
      "Epoch 27/50\n",
      "2000/2000 [==============================] - 0s 224us/step - loss: 0.0240 - acc: 0.9940 - val_loss: 0.6855 - val_acc: 0.8938\n",
      "Epoch 28/50\n",
      "2000/2000 [==============================] - 0s 223us/step - loss: 0.0320 - acc: 0.9895 - val_loss: 0.7116 - val_acc: 0.8950\n",
      "Epoch 29/50\n",
      "2000/2000 [==============================] - 0s 219us/step - loss: 0.0372 - acc: 0.9875 - val_loss: 0.6646 - val_acc: 0.9113\n",
      "Epoch 30/50\n",
      "2000/2000 [==============================] - 0s 221us/step - loss: 0.0241 - acc: 0.9935 - val_loss: 0.7224 - val_acc: 0.9100\n",
      "Epoch 31/50\n",
      "2000/2000 [==============================] - 0s 221us/step - loss: 0.0194 - acc: 0.9950 - val_loss: 0.6931 - val_acc: 0.9050\n",
      "Epoch 32/50\n",
      "2000/2000 [==============================] - 0s 220us/step - loss: 0.0251 - acc: 0.9920 - val_loss: 0.7617 - val_acc: 0.9025\n",
      "Epoch 33/50\n",
      "2000/2000 [==============================] - 0s 222us/step - loss: 0.0149 - acc: 0.9935 - val_loss: 0.7582 - val_acc: 0.9000\n",
      "Epoch 34/50\n",
      "2000/2000 [==============================] - 0s 223us/step - loss: 0.0114 - acc: 0.9955 - val_loss: 0.8246 - val_acc: 0.9062\n",
      "Epoch 35/50\n",
      "2000/2000 [==============================] - 0s 222us/step - loss: 0.0317 - acc: 0.9890 - val_loss: 0.8262 - val_acc: 0.9050\n",
      "Epoch 36/50\n",
      "2000/2000 [==============================] - 0s 219us/step - loss: 0.0154 - acc: 0.9955 - val_loss: 0.9301 - val_acc: 0.8938\n",
      "Epoch 37/50\n",
      "2000/2000 [==============================] - 0s 217us/step - loss: 0.0259 - acc: 0.9895 - val_loss: 0.8198 - val_acc: 0.9050\n",
      "Epoch 38/50\n",
      "2000/2000 [==============================] - 0s 221us/step - loss: 0.0184 - acc: 0.9945 - val_loss: 0.8547 - val_acc: 0.8988\n",
      "Epoch 39/50\n",
      "2000/2000 [==============================] - 0s 218us/step - loss: 0.0174 - acc: 0.9955 - val_loss: 0.8999 - val_acc: 0.9025\n",
      "Epoch 40/50\n",
      "2000/2000 [==============================] - 0s 220us/step - loss: 0.0171 - acc: 0.9940 - val_loss: 0.8051 - val_acc: 0.9050\n",
      "Epoch 41/50\n",
      "2000/2000 [==============================] - 0s 220us/step - loss: 0.0178 - acc: 0.9940 - val_loss: 0.8637 - val_acc: 0.9000\n",
      "Epoch 42/50\n",
      "2000/2000 [==============================] - 0s 224us/step - loss: 0.0062 - acc: 0.9955 - val_loss: 0.9873 - val_acc: 0.8912\n",
      "Epoch 43/50\n",
      "2000/2000 [==============================] - 0s 221us/step - loss: 0.0095 - acc: 0.9970 - val_loss: 0.9607 - val_acc: 0.8950\n",
      "Epoch 44/50\n",
      "2000/2000 [==============================] - 0s 223us/step - loss: 0.0134 - acc: 0.9970 - val_loss: 1.0872 - val_acc: 0.8850\n",
      "Epoch 45/50\n",
      "2000/2000 [==============================] - 0s 222us/step - loss: 0.0121 - acc: 0.9975 - val_loss: 0.9135 - val_acc: 0.9062\n",
      "Epoch 46/50\n",
      "2000/2000 [==============================] - 0s 223us/step - loss: 0.0152 - acc: 0.9960 - val_loss: 1.1006 - val_acc: 0.8838\n",
      "Epoch 47/50\n",
      "2000/2000 [==============================] - 0s 220us/step - loss: 0.0166 - acc: 0.9960 - val_loss: 0.9956 - val_acc: 0.8962\n",
      "Epoch 48/50\n",
      "2000/2000 [==============================] - 0s 222us/step - loss: 0.0105 - acc: 0.9975 - val_loss: 1.1032 - val_acc: 0.8862\n",
      "Epoch 49/50\n",
      "2000/2000 [==============================] - 0s 224us/step - loss: 0.0023 - acc: 0.9995 - val_loss: 0.9817 - val_acc: 0.9038\n",
      "Epoch 50/50\n",
      "2000/2000 [==============================] - 0s 222us/step - loss: 0.0049 - acc: 0.9990 - val_loss: 1.0258 - val_acc: 0.9000\n"
     ]
    }
   ],
   "source": [
    "# Set up model\n",
    "epochs = 50\n",
    "\n",
    "# Train model, keeping track of history\n",
    "from keras.callbacks import History\n",
    "hist = top_model.fit(train_data, train_labels,\n",
    "                 epochs=epochs,\n",
    "                 batch_size=batch_size,\n",
    "                 validation_data=(validation_data, validation_labels))"
   ]
  },
  {
   "cell_type": "markdown",
   "metadata": {},
   "source": [
    "### Save model and weights"
   ]
  },
  {
   "cell_type": "code",
   "execution_count": 11,
   "metadata": {},
   "outputs": [
    {
     "name": "stdout",
     "output_type": "stream",
     "text": [
      "['loss', 'acc']\n",
      "800/800 [==============================] - 0s 76us/step\n",
      "[1.0258445458766072, 0.9]\n"
     ]
    }
   ],
   "source": [
    "# Save model & weights to HDF5 file\n",
    "top_model_file = 'features_model' \n",
    "top_model.save(top_model_file + '.h5')\n",
    "\n",
    "# Save model to JSON file & weights to HDF5 file\n",
    "top_model_json = top_model.to_json()\n",
    "with open(top_model_file + '.json','w') as json_file:\n",
    "    json_file.write(top_model_json)\n",
    "top_model.save_weights(top_model_file+'-wts.h5')\n",
    "\n",
    "# Results on validation set\n",
    "print (top_model.metrics_names)\n",
    "results = top_model.evaluate (validation_data, validation_labels)\n",
    "print (results)"
   ]
  },
  {
   "cell_type": "markdown",
   "metadata": {
    "collapsed": true
   },
   "source": [
    "### Load model again and test"
   ]
  },
  {
   "cell_type": "code",
   "execution_count": 12,
   "metadata": {},
   "outputs": [
    {
     "name": "stdout",
     "output_type": "stream",
     "text": [
      "(800,)\n",
      "['loss', 'acc']\n",
      "800/800 [==============================] - 0s 121us/step\n",
      "[1.0258445458766072, 0.9]\n"
     ]
    }
   ],
   "source": [
    "top_model2 = keras.models.load_model(top_model_file+'.h5')\n",
    "print (validation_labels.shape)\n",
    "\n",
    "print (top_model2.metrics_names)\n",
    "results = top_model2.evaluate(validation_data, validation_labels)\n",
    "print (results)"
   ]
  },
  {
   "cell_type": "markdown",
   "metadata": {},
   "source": [
    "### Print training history"
   ]
  },
  {
   "cell_type": "code",
   "execution_count": 13,
   "metadata": {},
   "outputs": [
    {
     "name": "stdout",
     "output_type": "stream",
     "text": [
      "{'loss': [0.7989897830486298, 0.3472850636541843, 0.28470033037662507, 0.2659973061680794, 0.241860317427665, 0.20471238232403993, 0.1907775649537798, 0.1586583878239617, 0.13478900037519634, 0.11906744509004057, 0.11381199467601255, 0.08906235697539523, 0.10302183923277335, 0.08076736309871194, 0.08368151758090243, 0.07143723758666601, 0.060591624210617735, 0.0565113622963363, 0.05733685208619135, 0.03856882109989783, 0.036351935350099666, 0.04756382276046133, 0.03265383930305052, 0.0209799905805653, 0.04020391717047255, 0.04903297051042023, 0.024042593909681272, 0.03204362702720016, 0.037245497337285084, 0.024125897369958297, 0.01935493189380418, 0.025071589789112125, 0.014850615837679413, 0.01138185172230817, 0.03170836195569797, 0.015377778306373784, 0.025857034962036153, 0.018385551675915053, 0.01738293807710289, 0.017098450002244876, 0.017819965100790397, 0.006169357080500049, 0.009540540902651912, 0.013443469863565781, 0.012087495277006553, 0.01516633341773462, 0.016598670775290657, 0.01054196967706838, 0.002303551369806826, 0.004884941360073924], 'val_acc': [0.8825, 0.82875, 0.9075, 0.9, 0.9075, 0.91, 0.9, 0.9, 0.88625, 0.85625, 0.90625, 0.90875, 0.87875, 0.8875, 0.88125, 0.8925, 0.90875, 0.9075, 0.905, 0.905, 0.87625, 0.90375, 0.88875, 0.8975, 0.90125, 0.89375, 0.89375, 0.895, 0.91125, 0.91, 0.905, 0.9025, 0.9, 0.90625, 0.905, 0.89375, 0.905, 0.89875, 0.9025, 0.905, 0.9, 0.89125, 0.895, 0.885, 0.90625, 0.88375, 0.89625, 0.88625, 0.90375, 0.9], 'val_loss': [0.2856576202809811, 0.4274735066667199, 0.2622808099910617, 0.24915389608591795, 0.2674688901938498, 0.26679639948531986, 0.3093350110854953, 0.32531952042132617, 0.4448725003452273, 0.669355629747406, 0.3516844718949869, 0.38871320535690757, 0.4923583638801938, 0.43137315827974815, 0.5559414756599653, 0.5024899512184493, 0.4938008383729175, 0.5532781190090463, 0.5609383363829147, 0.609272022375917, 0.8662626225520711, 0.5605171009730838, 0.8144471885511063, 0.7597735234792617, 0.6936215814064053, 0.6734179875294604, 0.685549048379744, 0.7115999714024384, 0.6646005043595778, 0.7224399326364415, 0.6931263045135347, 0.761654793632099, 0.7581508662593819, 0.8246481943233936, 0.8261964282846597, 0.9300742023488333, 0.8197648802253761, 0.8547266102732332, 0.8998540622880153, 0.805102787775366, 0.8637172058240503, 0.9873139895407261, 0.9606965551407777, 1.087170724789664, 0.9134909242643537, 1.1005761949489872, 0.9956039967359884, 1.1031517787535332, 0.9816845577059002, 1.0258445834296035], 'acc': [0.751, 0.854, 0.8845, 0.896, 0.9135, 0.9265, 0.9335, 0.943, 0.9505, 0.957, 0.954, 0.9665, 0.968, 0.9675, 0.9735, 0.972, 0.9765, 0.977, 0.9815, 0.984, 0.989, 0.984, 0.9885, 0.9905, 0.989, 0.9855, 0.994, 0.9895, 0.9875, 0.9935, 0.995, 0.992, 0.9935, 0.9955, 0.989, 0.9955, 0.9895, 0.9945, 0.9955, 0.994, 0.994, 0.9955, 0.997, 0.997, 0.9975, 0.996, 0.996, 0.9975, 0.9995, 0.999]}\n"
     ]
    }
   ],
   "source": [
    "print (hist.history)"
   ]
  },
  {
   "cell_type": "markdown",
   "metadata": {},
   "source": [
    "### Plot accuracies"
   ]
  },
  {
   "cell_type": "code",
   "execution_count": 14,
   "metadata": {},
   "outputs": [
    {
     "name": "stderr",
     "output_type": "stream",
     "text": [
      "/usr/lib/python3/dist-packages/matplotlib/font_manager.py:273: UserWarning: Matplotlib is building the font cache using fc-list. This may take a moment.\n",
      "  warnings.warn('Matplotlib is building the font cache using fc-list. This may take a moment.')\n",
      "/usr/lib/python3/dist-packages/matplotlib/font_manager.py:273: UserWarning: Matplotlib is building the font cache using fc-list. This may take a moment.\n",
      "  warnings.warn('Matplotlib is building the font cache using fc-list. This may take a moment.')\n"
     ]
    },
    {
     "data": {
      "image/png": "[encoded data removed]",
      "text/plain": [
       "<matplotlib.figure.Figure at 0x2ac92c02ebe0>"
      ]
     },
     "metadata": {},
     "output_type": "display_data"
    }
   ],
   "source": [
    "import matplotlib.pyplot as plt\n",
    "%matplotlib inline\n",
    "\n",
    "result = hist.history\n",
    "\n",
    "# summarize history for accuracy\n",
    "plt.plot(result['acc'])\n",
    "plt.plot(result['val_acc'])\n",
    "plt.title('model accuracy')\n",
    "plt.ylabel('accuracy')\n",
    "plt.xlabel('epoch')\n",
    "plt.legend(['train', 'val'], loc='upper left')\n",
    "plt.show()"
   ]
  },
  {
   "cell_type": "code",
   "execution_count": null,
   "metadata": {},
   "outputs": [],
   "source": []
  }
 ],
 "metadata": {
  "kernelspec": {
   "display_name": "Python 3",
   "language": "python",
   "name": "python3"
  },
  "language_info": {
   "codemirror_mode": {
    "name": "ipython",
    "version": 3
   },
   "file_extension": ".py",
   "mimetype": "text/x-python",
   "name": "python",
   "nbconvert_exporter": "python",
   "pygments_lexer": "ipython3",
   "version": "3.5.2"
  }
 },
 "nbformat": 4,
 "nbformat_minor": 2
}
