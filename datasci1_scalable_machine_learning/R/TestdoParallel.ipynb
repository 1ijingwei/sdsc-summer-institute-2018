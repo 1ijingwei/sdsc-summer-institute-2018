{
 "cells": [
  {
   "cell_type": "markdown",
   "metadata": {},
   "source": [
    "# Examples of R and parallel implementations\n",
    "\n",
    "Paul Rodriguez\n",
    "SDSC 8/2018\n",
    "\n",
    "This example will set up some data and use the 'for each with dopar' "
   ]
  },
  {
   "cell_type": "code",
   "execution_count": 1,
   "metadata": {},
   "outputs": [
    {
     "name": "stderr",
     "output_type": "stream",
     "text": [
      "Loading required package: foreach\n",
      "Loading required package: iterators\n",
      "Loading required package: parallel\n"
     ]
    },
    {
     "name": "stdout",
     "output_type": "stream",
     "text": [
      "[1] \"Start dopar \"\n"
     ]
    }
   ],
   "source": [
    "# ----------------------------------------------------\n",
    "#  doParallel package\n",
    "#    uses 'do' or 'dopar' to run single/multicore execution\n",
    "# ----------------------------------------------------\n",
    "library(doParallel)\n",
    "registerDoParallel(cores=24)  #register 1 to 24 nodes on comet, depending on situation\n",
    "\n",
    "print('Start dopar ')\n",
    "\n"
   ]
  },
  {
   "cell_type": "code",
   "execution_count": 2,
   "metadata": {},
   "outputs": [
    {
     "name": "stdout",
     "output_type": "stream",
     "text": [
      "[[1]]\n",
      "[1] 2\n",
      "\n",
      "[[2]]\n",
      "[1] 4\n",
      "\n",
      "[[3]]\n",
      "[1] 6\n",
      "\n",
      "[[4]]\n",
      "[1] 8\n",
      "\n",
      "[[5]]\n",
      "[1] 10\n",
      "\n",
      "[[6]]\n",
      "[1] 12\n",
      "\n",
      "[[7]]\n",
      "[1] 14\n",
      "\n",
      "[[8]]\n",
      "[1] 16\n",
      "\n",
      "[[9]]\n",
      "[1] 18\n",
      "\n",
      "[[10]]\n",
      "[1] 20\n",
      "\n",
      "[[11]]\n",
      "[1] 22\n",
      "\n",
      "[[12]]\n",
      "[1] 24\n",
      "\n",
      "[[13]]\n",
      "[1] 26\n",
      "\n",
      "[[14]]\n",
      "[1] 28\n",
      "\n",
      "[[15]]\n",
      "[1] 30\n",
      "\n",
      "[[16]]\n",
      "[1] 32\n",
      "\n",
      "[[17]]\n",
      "[1] 34\n",
      "\n",
      "[[18]]\n",
      "[1] 36\n",
      "\n",
      "[[19]]\n",
      "[1] 38\n",
      "\n",
      "[[20]]\n",
      "[1] 40\n",
      "\n",
      "[[21]]\n",
      "[1] 42\n",
      "\n",
      "[[22]]\n",
      "[1] 44\n",
      "\n",
      "[[23]]\n",
      "[1] 46\n",
      "\n",
      "[[24]]\n",
      "[1] 48\n",
      "\n"
     ]
    }
   ],
   "source": [
    "#Explore what variables is put into the parallel executions:\n",
    "#    run this cell\n",
    "\n",
    "dummy     = matrix(seq(1,24),24,1)  #make a dummy vector of numbers 1...24\n",
    "Y_outside = matrix(0,24,1)          #make a vector outside the for loop\n",
    "\n",
    "results = foreach(i = 1:24 ) %dopar%     #default combines results into a list  \n",
    "{\n",
    "  Y_inside    = 2*dummy[i]   #The 'dummy' variable is readable inside the forloop\n",
    "  Y_outside[i]= Y_inside-.1     #Is the Y_outside available for assignment?  \n",
    "  return(Y_inside)\n",
    "}\n",
    "\n",
    "print(results)"
   ]
  },
  {
   "cell_type": "markdown",
   "metadata": {},
   "source": [
    "# Ex1  \n",
    " What is the value of Y_outside now?\n",
    " type and run: \n",
    "         str(Y_outside)  "
   ]
  },
  {
   "cell_type": "code",
   "execution_count": 3,
   "metadata": {},
   "outputs": [],
   "source": [
    "#Empty cell for ex1, insert str(Y_outside)  here and run cell"
   ]
  },
  {
   "cell_type": "markdown",
   "metadata": {},
   "source": [
    "# Ex2 \n",
    "\n",
    "What was the value of Y_outside during the for loop execution?\n",
    "\n",
    "   A. change the return statement below to return both Y_inside and Y_outside as:\n",
    "            return(list(Y_inside,Y_outside[i]))   \n",
    "\n",
    "\n",
    "   B. then  print(results)   and note that the output is a list of lists\n",
    "\n"
   ]
  },
  {
   "cell_type": "code",
   "execution_count": null,
   "metadata": {},
   "outputs": [],
   "source": [
    "#For EX2\n",
    "\n",
    "dummy     = matrix(seq(1,24),24,1)  #make a dummy vector of numbers 1...24\n",
    "Y_outside = matrix(0,24,1)          #make a vector outside the for loop\n",
    "\n",
    "results = foreach(i = 1:24 ) %dopar%     #default combines results into a list  \n",
    "{\n",
    "  Y_inside    = 2*dummy[i]   #The 'dummy' variable is readable inside the forloop\n",
    "  Y_outside[i]= Y_inside-.1     #Is the Y_outside available for assignment?  \n",
    "  return(Y_inside)\n",
    "}\n",
    "\n",
    "print(results)"
   ]
  },
  {
   "cell_type": "markdown",
   "metadata": {},
   "source": [
    "In summary: doParallel can copy 'dummy' and 'Y_outside' to all cores, \n",
    " but can not allow cores to make assignments to Y_outside outside the for loop\n",
    "\n",
    "In other words, the cores cannot depend on what other cores might do\n"
   ]
  },
  {
   "cell_type": "markdown",
   "metadata": {},
   "source": [
    "# EX3\n",
    "\n",
    "Let's change how the results are combined -\n",
    "    \n",
    "    change the foreach statement to add a function after the loop index:\n",
    "    \n",
    "          results = foreach(i = 1:24, .combine=cbind) %dopar%  \n",
    "\n"
   ]
  },
  {
   "cell_type": "code",
   "execution_count": null,
   "metadata": {},
   "outputs": [],
   "source": [
    "#For EX3\n",
    "\n",
    "dummy     = matrix(seq(1,24),24,1)  #make a dummy vector of numbers 1...24\n",
    "Y_outside = matrix(0,24,1)          #make a vector outside the for loop\n",
    "\n",
    "results = foreach(i = 1:24 ) %dopar%     #default combines results into a list  \n",
    "{\n",
    "  Y_inside    = 2*dummy[i]   #The 'dummy' variable is readable inside the forloop\n",
    "  Y_outside[i]= Y_inside-.1     #Is the Y_outside available for assignment?  \n",
    "  return(Y_inside)\n",
    "}\n",
    "\n",
    "print(results)"
   ]
  },
  {
   "cell_type": "markdown",
   "metadata": {},
   "source": [
    "# Now let's explore memory usage and parallelization"
   ]
  },
  {
   "cell_type": "code",
   "execution_count": 6,
   "metadata": {},
   "outputs": [
    {
     "data": {
      "text/html": [
       "<ol class=list-inline>\n",
       "\t<li>'Y_outside'</li>\n",
       "\t<li>'dummy'</li>\n",
       "\t<li>'results'</li>\n",
       "</ol>\n"
      ],
      "text/latex": [
       "\\begin{enumerate*}\n",
       "\\item 'Y\\_outside'\n",
       "\\item 'dummy'\n",
       "\\item 'results'\n",
       "\\end{enumerate*}\n"
      ],
      "text/markdown": [
       "1. 'Y_outside'\n",
       "2. 'dummy'\n",
       "3. 'results'\n",
       "\n",
       "\n"
      ],
      "text/plain": [
       "[1] \"Y_outside\" \"dummy\"     \"results\"  "
      ]
     },
     "metadata": {},
     "output_type": "display_data"
    },
    {
     "name": "stdout",
     "output_type": "stream",
     "text": [
      "[1] \"after removal:\"\n"
     ]
    },
    {
     "data": {
      "text/html": [],
      "text/latex": [],
      "text/markdown": [],
      "text/plain": [
       "character(0)"
      ]
     },
     "metadata": {},
     "output_type": "display_data"
    }
   ],
   "source": [
    "#clear out R workspace\n",
    "ls()            #list variables\n",
    "rm(list=ls())   #remove this list\n",
    "print('after removal:')\n",
    "ls()"
   ]
  },
  {
   "cell_type": "code",
   "execution_count": 7,
   "metadata": {},
   "outputs": [
    {
     "data": {
      "text/html": [
       "<ol class=list-inline>\n",
       "\t<li>8000000</li>\n",
       "\t<li>24</li>\n",
       "</ol>\n"
      ],
      "text/latex": [
       "\\begin{enumerate*}\n",
       "\\item 8000000\n",
       "\\item 24\n",
       "\\end{enumerate*}\n"
      ],
      "text/markdown": [
       "1. 8000000\n",
       "2. 24\n",
       "\n",
       "\n"
      ],
      "text/plain": [
       "[1] 8000000      24"
      ]
     },
     "metadata": {},
     "output_type": "display_data"
    }
   ],
   "source": [
    "# Make up some random data and list out the object sizes\n",
    "N=8000000;    #N rows\n",
    "P=24;       #P columns\n",
    "#N=1000000;  #1Mx1K matrix is 7.5G and crashes R and the node\n",
    "#P=1000;    \n",
    "X     =matrix(rnorm(N*P),N,P)\n",
    "B     =seq(1,P)  #make coeffiencts as 1,2,...P\n",
    "dim(X)"
   ]
  },
  {
   "cell_type": "code",
   "execution_count": 8,
   "metadata": {},
   "outputs": [
    {
     "name": "stdout",
     "output_type": "stream",
     "text": [
      "          X           B           N           P        <NA>        <NA> \n",
      "   \"1.4 Gb\" \"168 bytes\"  \"48 bytes\"  \"48 bytes\"          NA          NA \n",
      "       <NA>        <NA>        <NA>        <NA> \n",
      "         NA          NA          NA          NA \n"
     ]
    }
   ],
   "source": [
    "#Use object.size function and some format to print out 10 largest variables\n",
    "sizes       = sapply(ls(), function(n) object.size(get(n)), simplify = FALSE) \n",
    "print(sapply(sizes[order(-as.integer(sizes))],   \n",
    "                   function(s) format(s, unit = 'auto'))[1:10])  #print out size in more readable units"
   ]
  },
  {
   "cell_type": "markdown",
   "metadata": {},
   "source": [
    "# EX 4\n",
    "  get new xterm window, ssh to this comet node,\n",
    "  \n",
    "     enter>  top \n",
    "\n",
    " observe the total memory usage in top section\n"
   ]
  },
  {
   "cell_type": "code",
   "execution_count": 9,
   "metadata": {},
   "outputs": [
    {
     "name": "stdout",
     "output_type": "stream",
     "text": [
      "   user  system elapsed \n",
      " 35.254   0.666  22.063 \n",
      "          Y          vY           i        <NA>        <NA>        <NA> \n",
      "    \"61 Mb\" \"208 bytes\"  \"48 bytes\"          NA          NA          NA \n",
      "       <NA>        <NA>        <NA>        <NA> \n",
      "         NA          NA          NA          NA \n"
     ]
    }
   ],
   "source": [
    "#Here is a loop with large matrix operation\n",
    "ptm <- proc.time()\n",
    "\n",
    "results = foreach(i = 1:24, .combine=cbind) %dopar%   \n",
    "                               #combine results using 'cbind' to put into rows \n",
    "{\n",
    "  Sys.sleep(10)\n",
    "  Y                 = X %*% B\n",
    "  vY                = var(Y)\n",
    "  Sys.sleep(10)\n",
    "  sizes             = sapply(ls(), function(n) object.size(get(n)), simplify = FALSE) \n",
    "  tmp               = sapply(sizes[order(-as.integer(sizes))],   \n",
    "                              function(s) format(s, unit = 'auto'))[1:10]\n",
    "                             #sizes[order(-as.integer(sizes))]\n",
    "\n",
    "  return(tmp)\n",
    "}\n",
    "\n",
    "\n",
    "looptime=proc.time() - ptm   #returns the user,system,and elapsed time\n",
    "print(looptime)\n",
    "\n",
    "print(results[,1])\n",
    "                             "
   ]
  },
  {
   "cell_type": "markdown",
   "metadata": {},
   "source": [
    "# EX5\n",
    "Now, add the following line into the function before the 2nd sleep\n",
    "\n",
    "  lm_result         = lm(Y~X[,i])  \n",
    "\n",
    "and observe the peak memory usage"
   ]
  },
  {
   "cell_type": "markdown",
   "metadata": {},
   "source": [
    "# EX6\n",
    "Now change the foreach to use  i=1:12\n",
    "\n",
    "Rerun the cell and look at the top output -\n",
    "\n",
    "Does the peak memory change by 50%?"
   ]
  },
  {
   "cell_type": "markdown",
   "metadata": {},
   "source": [
    "# EX7 optional\n",
    "We might try to use an iterator function so that only 1 column of X is used\n",
    " execute this once\n",
    "  library(iterators)  \n",
    "\n",
    " and put these in, replacing the corresponding statement\n",
    "   results = foreach(Xc=iter(X, by='col'), .combine=cbind) %dopar%   \n",
    "   lm_result         = lm(Y~Xc)  \n",
    "\n",
    "Q; Does it alleviate memory?\n",
    "Try it:"
   ]
  },
  {
   "cell_type": "code",
   "execution_count": null,
   "metadata": {},
   "outputs": [],
   "source": [
    "#Lets compare another way;  OPTIONAL\n",
    "\n",
    "dolm = function(Xc)\n",
    "{  Sys.sleep(10)\n",
    "  Y                 = Xc %*% B\n",
    "  lm_result         = lm(Y~Xc)  \n",
    "  Sys.sleep(10)\n",
    "  sizes             = sapply(ls(), function(n) object.size(get(n)), simplify = FALSE) \n",
    "  tmp               = sapply(sizes[order(-as.integer(sizes))],   \n",
    "                              function(s) format(s, unit = 'auto'))[1:10]\n",
    "  return(tmp)\n",
    "}\n",
    "\n",
    "results=mclapply(X,function(Xc) dolm(Xc),mc.preschedule = TRUE, mc.cores = 24)\n",
    "\n",
    "\n",
    "print(results)"
   ]
  },
  {
   "cell_type": "code",
   "execution_count": null,
   "metadata": {},
   "outputs": [],
   "source": []
  }
 ],
 "metadata": {
  "kernelspec": {
   "display_name": "R",
   "language": "R",
   "name": "ir"
  },
  "language_info": {
   "codemirror_mode": "r",
   "file_extension": ".r",
   "mimetype": "text/x-r-source",
   "name": "R",
   "pygments_lexer": "r",
   "version": "3.2.3"
  }
 },
 "nbformat": 4,
 "nbformat_minor": 2
}
