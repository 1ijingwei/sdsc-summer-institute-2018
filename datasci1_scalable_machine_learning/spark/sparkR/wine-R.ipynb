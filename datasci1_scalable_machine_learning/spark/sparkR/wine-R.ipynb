{
 "cells": [
  {
   "cell_type": "markdown",
   "metadata": {},
   "source": [
    "## SparkR - Classification on Wine Data\n",
    "#### Adapted from https://blog.learningtree.com/machine-learning-using-spark-r/"
   ]
  },
  {
   "cell_type": "code",
   "execution_count": null,
   "metadata": {
    "scrolled": true
   },
   "outputs": [],
   "source": [
    "# Load SparkR library\n",
    "library(SparkR, lib.loc = c(file.path(Sys.getenv(\"SPARK_HOME\"), \"R\", \"lib\")))"
   ]
  },
  {
   "cell_type": "code",
   "execution_count": null,
   "metadata": {},
   "outputs": [],
   "source": [
    "# Start Spark session\n",
    "sparkR.session(master=\"local[*]\", sparkConfig=list(spark.driver.memory=\"2g\"))"
   ]
  },
  {
   "cell_type": "code",
   "execution_count": null,
   "metadata": {},
   "outputs": [],
   "source": [
    "# Read data into a Spark dataframe\n",
    "sdf <- read.df(\"winequality-white.csv\", <<<FILL-IN>>>, header=\"true\", inferSchema=\"true\") "
   ]
  },
  {
   "cell_type": "code",
   "execution_count": null,
   "metadata": {},
   "outputs": [],
   "source": [
    "# Cache dataframe\n",
    "cache(<<<FILL-IN>>>)"
   ]
  },
  {
   "cell_type": "code",
   "execution_count": null,
   "metadata": {},
   "outputs": [],
   "source": [
    "# Examine schema\n",
    "<<<FILL-IN>>>(sdf)"
   ]
  },
  {
   "cell_type": "code",
   "execution_count": null,
   "metadata": {},
   "outputs": [],
   "source": [
    "# Split into train & test sets\n",
    "seed <- 12345\n",
    "train_df <- sample(sdf, withReplacement=FALSE, fraction=0.7, seed=seed)\n",
    "test_df <- except (sdf, train_df)\n",
    "dim(train_df)\n",
    "<<<FILL-IN>>>(test_df)"
   ]
  },
  {
   "cell_type": "code",
   "execution_count": null,
   "metadata": {
    "scrolled": true
   },
   "outputs": [],
   "source": [
    "# Train RF model\n",
    "model <- spark.randomForest(train_df, taste ~ ., type=\"classification\", numTrees=<<<FILL-IN>>>, seed=seed)\n",
    "head(<<<FILL-IN>>>(model))"
   ]
  },
  {
   "cell_type": "code",
   "execution_count": null,
   "metadata": {},
   "outputs": [],
   "source": [
    "# Predict on test data\n",
    "predictions <- predict(model, test_df)\n",
    "prediction_df <- collect(select(predictions, \"id\", \"prediction\"))"
   ]
  },
  {
   "cell_type": "code",
   "execution_count": null,
   "metadata": {},
   "outputs": [],
   "source": [
    "# Evaluate\n",
    "library(dplyr)\n",
    "\n",
    "actual_vs_predicted <- dplyr::inner_join(as.data.frame(sdf), prediction_df, \"id\") %>%\n",
    "    dplyr::select (id, actual=taste, predicted=prediction)\n",
    "mean(actual_vs_predicted$actual == actual_vs_predicted$predicted)\n",
    "table(actual_vs_predicted$actual, actual_vs_predicted$predicted)"
   ]
  },
  {
   "cell_type": "code",
   "execution_count": null,
   "metadata": {},
   "outputs": [],
   "source": [
    "# Examine first few rows of actual vs predicted wine quality values\n",
    "<<<FILL-IN>>>(actual_vs_predicted)"
   ]
  },
  {
   "cell_type": "code",
   "execution_count": null,
   "metadata": {},
   "outputs": [],
   "source": [
    "# Save model (NOTE:  path must not exist)\n",
    "write.ml(model, \"wine-RF-model\")"
   ]
  }
 ],
 "metadata": {
  "kernelspec": {
   "display_name": "R",
   "language": "R",
   "name": "ir"
  },
  "language_info": {
   "codemirror_mode": "r",
   "file_extension": ".r",
   "mimetype": "text/x-r-source",
   "name": "R",
   "pygments_lexer": "r",
   "version": "3.2.3"
  }
 },
 "nbformat": 4,
 "nbformat_minor": 2
}
